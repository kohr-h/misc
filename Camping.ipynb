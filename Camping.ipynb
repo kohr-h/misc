{
 "cells": [
  {
   "cell_type": "markdown",
   "metadata": {},
   "source": [
    "# Camping Calculator\n",
    "\n",
    "The worst possible way to get camping prices in France:\n",
    "- Download the HTML of the search results on https://campingfrance.com/\n",
    "- Find the camping sites (totally robust criterion: they're written in all caps)\n",
    "- Download the camping site detail page HTML\n",
    "- Find table with prices and div containing GPS coordinates\n",
    "- Parse text with regexes (they're horribly inconsistent, thus many corner cases)\n",
    "- Dump info into a dictionary\n",
    "- Calculate prices for our trip and show summary (if possible)"
   ]
  },
  {
   "cell_type": "markdown",
   "metadata": {},
   "source": [
    "### Packages"
   ]
  },
  {
   "cell_type": "code",
   "execution_count": 1,
   "metadata": {},
   "outputs": [],
   "source": [
    "import re\n",
    "import requests\n",
    "from bs4 import BeautifulSoup\n",
    "from IPython.display import HTML, display"
   ]
  },
  {
   "cell_type": "markdown",
   "metadata": {},
   "source": [
    "### Base Data\n",
    "\n",
    "Hard-coded for now, but no big deal to change that."
   ]
  },
  {
   "cell_type": "code",
   "execution_count": 2,
   "metadata": {},
   "outputs": [],
   "source": [
    "PEOPLE = {\n",
    "    \"Ro\": 42,\n",
    "    \"Ev\": 35,\n",
    "    \"Ja\": 13,\n",
    "    \"Da\": 11,\n",
    "    \"To\": 7,\n",
    "    \"Jo\": 4,\n",
    "    \"Ho\": 26,\n",
    "}\n",
    "\n",
    "N_CARS = 2\n",
    "N_PLACES = 2\n",
    "N_NIGHTS = 7"
   ]
  },
  {
   "cell_type": "markdown",
   "metadata": {},
   "source": [
    "### Convenience Functions to Pull Stuff out of Dictionaries"
   ]
  },
  {
   "cell_type": "code",
   "execution_count": 3,
   "metadata": {},
   "outputs": [],
   "source": [
    "def _get(people, age_min, age_max, exclude):\n",
    "    for name, age in people.items():\n",
    "        if age_min <= age <= age_max and name not in exclude:\n",
    "            return name\n",
    "    else:\n",
    "        return None\n",
    "\n",
    "\n",
    "def get_adult(people, age_min, exclude):\n",
    "    return _get(people, age_min, float(\"inf\"), exclude)\n",
    "\n",
    "\n",
    "def get_child(people, age_min, exclude):\n",
    "    return _get(people, age_min, age_max, exclude)\n",
    "\n",
    "\n",
    "def get_toddler(people, age_max, exclude):\n",
    "    return _get(people, 0, age_max, exclude)\n",
    "\n",
    "\n",
    "def _count(people, age_min, age_max, exclude):\n",
    "    return sum(1 if age_min <= age <= age_max and name not in exclude else 0 for name, age in people.items())\n",
    "\n",
    "\n",
    "def count_adults(people, age_min, exclude):\n",
    "    return _count(people, age_min, float(\"inf\"), exclude)\n",
    "\n",
    "\n",
    "def count_children(people, age_min, age_max, exclude):\n",
    "    return _count(people, age_min, age_max, exclude)\n",
    "\n",
    "\n",
    "def count_toddlers(people, age_max, exclude):\n",
    "    return _count(people, 0, age_max, exclude)"
   ]
  },
  {
   "cell_type": "markdown",
   "metadata": {},
   "source": [
    "### Find Camping Sites on all Search Result Pages"
   ]
  },
  {
   "cell_type": "code",
   "execution_count": 4,
   "metadata": {},
   "outputs": [],
   "source": [
    "CAMPINGFRANCE_SEARCH_URL_FMT = (  # hard-coded location :-(\n",
    "    r\"https://www.campingfrance.com/uk\"\n",
    "    \"/find-your-campsite\"\n",
    "    \"/provence-alpes-cote-dazur\"\n",
    "    \"/hautes-alpes\"\n",
    "    \"/risoul\"\n",
    "    \"{page_suffix}\"\n",
    ")\n",
    "EXCLUDE_TITLES = [\"FFCC\", \"LPBC\", \"OT\"]\n",
    "\n",
    "page_suffices = [\"\"]\n",
    "page_suffices.extend(\"/page-{}\".format(i) for i in range(2, 4))  # hard-coded :-(\n",
    "campings = {}\n",
    "\n",
    "\n",
    "def get_campings(soup):\n",
    "    links = list(soup.find_all(\"a\"))\n",
    "    campings = {}\n",
    "    for link in links:\n",
    "        title = link.get(\"title\")\n",
    "        if title is None or title != title.upper() or title in EXCLUDE_TITLES:\n",
    "            continue\n",
    "        campings[title] = link.get(\"href\")\n",
    "        \n",
    "    return campings\n",
    "\n",
    "\n",
    "for suffix in page_suffices:\n",
    "    url = CAMPINGFRANCE_SEARCH_URL_FMT.format(page_suffix=suffix)\n",
    "    response = requests.get(url)\n",
    "    soup = BeautifulSoup(response.content)\n",
    "    campings.update(get_campings(soup))\n",
    "\n",
    "\n",
    "# Turn relative links to full URLs and drop absolute links (ads)\n",
    "campings = {\n",
    "    title: {\"href\": \"https://www.campingfrance.com\" + href.replace(\"/uk\", \"/fr\")}\n",
    "    for title, href in campings.items() if href.startswith(\"/\")\n",
    "}"
   ]
  },
  {
   "cell_type": "markdown",
   "metadata": {},
   "source": [
    "### Functions for Finding and Parsing Tables"
   ]
  },
  {
   "cell_type": "code",
   "execution_count": 5,
   "metadata": {},
   "outputs": [],
   "source": [
    "def get_table_texts(soup):\n",
    "    tables = soup.find_all(\"table\")\n",
    "    table_texts = []\n",
    "    for table in tables:\n",
    "        table_texts.extend(child.text.strip() for child in table.children)\n",
    "    return table_texts\n",
    "    \n",
    "\n",
    "def get_price(texts, start):\n",
    "    # Regex for getting the price out of a string like\n",
    "    # \"Flat : 5.50€/day\".\n",
    "    #\n",
    "    # This regex took quite a while to get right. It needs to handle both\n",
    "    # integer and floating point prices (\"5€\" and \"5.50€\") but still capture\n",
    "    # the whole thing as a group.\n",
    "    # Also the begin must be handled, but not too greedily (only non-digits).\n",
    "    # (Note also that the price is sometimes written as \"5,50€/day\", sometimes\n",
    "    # as \"5.50€/\")\n",
    "    price_regex = re.compile(r\"\\D*(\\d+(?:,\\d{2})*)€.*\")\n",
    "\n",
    "    for text in texts:\n",
    "        if text.startswith(start):\n",
    "            match = price_regex.match(text)\n",
    "            if match is None or match.groups is None:\n",
    "                continue\n",
    "            assert len(match.groups()) == 1\n",
    "            price = match.groups()[0].replace(\",\", \".\")\n",
    "            return float(price)\n",
    "    else:\n",
    "        raise ValueError(\n",
    "            \"no price found in {} for start {!r}\".format(texts, start)\n",
    "        )\n",
    "\n",
    "\n",
    "def get_age_price(texts, start):\n",
    "    # Regex for getting both age and price out of a string like\n",
    "    # \"Children (10 years old) : 3.50€/day\".\n",
    "    #\n",
    "    # Apart from all the troubles of the regex in `get_price`, here we also have\n",
    "    # the inconsistency of \"(10 years old)\" vs. \"(-10 years old)\".\n",
    "    # TODO: we even have \"(3 à 12 years old)\", so we need ranges :-(\n",
    "    age_price_regex = re.compile(r\"\\D*\\(\\D*(\\d+).*years.*\\)\\D*(\\d+(?:,\\d{2})*)€.*\")\n",
    "\n",
    "    for text in texts:\n",
    "        if text.startswith(start):\n",
    "            match = age_price_regex.match(text)\n",
    "            if match is None or match.groups is None:\n",
    "                continue\n",
    "            assert len(match.groups()) == 2\n",
    "            age, price = match.groups()\n",
    "            return int(age), float(price.replace(\",\", \".\"))\n",
    "    else:\n",
    "        raise ValueError(\n",
    "            \"no age and price found in {} for start {!r}\".format(texts, start)\n",
    "        )"
   ]
  },
  {
   "cell_type": "markdown",
   "metadata": {},
   "source": [
    "### Find the GPS Coordinates in a `<div>` Tag"
   ]
  },
  {
   "cell_type": "code",
   "execution_count": 6,
   "metadata": {},
   "outputs": [],
   "source": [
    "def get_coords(soup):\n",
    "    coord_regex = re.compile(r'\\{\"lat\":(\\d+.\\d+),\"lng\":(\\d+.\\d+)\\}')\n",
    "\n",
    "    map_divs = soup.find_all(\"div\", attrs={\"class\": \"map\"})\n",
    "    if not map_divs:\n",
    "        print(\"no map div found\")\n",
    "        return None, None\n",
    "    \n",
    "    for map_div in map_divs:\n",
    "        if \"data-map\" in map_div.attrs:\n",
    "            coord_str = map_div.attrs[\"data-map\"]\n",
    "            break\n",
    "    else:\n",
    "        print(\"no 'data-map' attribute in {}\".format(map_divs))\n",
    "        return None, None\n",
    "\n",
    "    match = coord_regex.match(coord_str)\n",
    "    if match is None:\n",
    "        print(\"no regex match in {!r}\".format(coord_str))\n",
    "        return None, None\n",
    "    \n",
    "    if match.groups is None or len(match.groups()) != 2:\n",
    "        print(\"lat/long not found in in {!r}\".format(coord_str))\n",
    "        return None, None\n",
    "    \n",
    "    lat, lng = map(float, match.groups())\n",
    "    return lat, lng"
   ]
  },
  {
   "cell_type": "markdown",
   "metadata": {},
   "source": [
    "### Assemble all Information in a Dictionary"
   ]
  },
  {
   "cell_type": "code",
   "execution_count": 7,
   "metadata": {},
   "outputs": [],
   "source": [
    "for site in campings:\n",
    "    # Title case makes it read better\n",
    "    campings[site][\"name\"] = site.title()\n",
    "\n",
    "    # Download page and parse HTML\n",
    "    response = requests.get(campings[site][\"href\"])\n",
    "    assert response.ok\n",
    "    soup = BeautifulSoup(response.content)\n",
    "\n",
    "    # Find tables containing rates and get prices\n",
    "    has_rates = bool(soup.find_all(\"a\", attrs={\"title\": \"Rates\"}))\n",
    "    table_texts = get_table_texts(soup)\n",
    "    if not has_rates or not table_texts:\n",
    "        # Some pages have no price table\n",
    "        campings[site][\"flat\"] = None\n",
    "        campings[site][\"adult\"] = None\n",
    "        campings[site][\"child\"] = None\n",
    "    else:\n",
    "        # Some use \"Flat\" for the flat rate, some use \"Pitch\"\n",
    "        try:\n",
    "            flat_price = get_price(table_texts, \"Flat\")\n",
    "        except ValueError:\n",
    "            flat_price = get_price(table_texts, \"Pitch\")\n",
    "\n",
    "        adult_price = get_price(table_texts, \"Adults\")\n",
    "        child_max_age, child_price = get_age_price(table_texts, \"Children\")\n",
    "\n",
    "        # We don't know from the page how many persons are covered by the\n",
    "        # flat rate, but we need some number; 2 is pretty common\n",
    "        campings[site][\"flat\"] = {\"price\": flat_price, \"persons_covered\": 2}\n",
    "        campings[site][\"adult\"] = {\"price\": adult_price, \"age_min\": child_max_age + 1}\n",
    "        campings[site][\"child\"] = {\"price\": child_price, \"age_max\": child_max_age}\n",
    "\n",
    "    # Find coordinates\n",
    "    lat, lng = get_coords(soup)\n",
    "    campings[site][\"coords\"] = (lat, lng)"
   ]
  },
  {
   "cell_type": "markdown",
   "metadata": {},
   "source": [
    "### Functions for Calculating and Showing Summaries"
   ]
  },
  {
   "cell_type": "code",
   "execution_count": 8,
   "metadata": {},
   "outputs": [],
   "source": [
    "def show_campingfrance_link(camping):\n",
    "    link = HTML('Link to CampingFrance: <a href=\"{url}\">click here</a>'.format(url=camping[\"href\"]))\n",
    "    display(link)\n",
    "\n",
    "\n",
    "# Map shows car route from Mont-Dauphin\n",
    "LOC_URL_FMT = (\n",
    "    \"https://graphhopper.com/maps/\"\n",
    "    \"?point=Mont-Dauphin%2C%2005600%2C%20France\"\n",
    "    \"&point={long}%2C{lat}\"\n",
    "    \"&locale=en-US\"\n",
    "    \"&vehicle=car\"\n",
    "    \"&weighting=fastest\"\n",
    "    \"&elevation=true\"\n",
    "    \"&use_miles=false\"\n",
    "    \"&layer=Omniscale\"\n",
    ")\n",
    "\n",
    "\n",
    "def show_location_link(camping):\n",
    "    long, lat = camping[\"coords\"]\n",
    "    loc_url = LOC_URL_FMT.format(long=long, lat=lat)\n",
    "    location = HTML('Location: <a href=\"{url}\">{long},{lat}</a>'.format(url=loc_url, long=long, lat=lat))\n",
    "    display(location)\n",
    "\n",
    "\n",
    "def show_prices_per_night(camping):\n",
    "    if camping[\"flat\"] is None:\n",
    "        print(\n",
    "            \"Flat                               : N/A\"\n",
    "        )\n",
    "    else:\n",
    "        print(\n",
    "            \"Flat                               : {:.02f}\".format(camping[\"flat\"][\"price\"])\n",
    "        )\n",
    "    print(\n",
    "        \"Covers {} person(s) and {} car(s)\".format(2, 1)  # no info, but good guess\n",
    "    )\n",
    "\n",
    "    if camping[\"adult\"] is None:\n",
    "        print(\n",
    "            \"Supplementary adult (age ?-)       : N/A\"\n",
    "        )\n",
    "    else:\n",
    "        print(\n",
    "            \"Supplementary adult (age {}-)       : {:.02f}\".format(\n",
    "                camping[\"adult\"][\"age_min\"], camping[\"adult\"][\"price\"]\n",
    "            )\n",
    "        )\n",
    "\n",
    "    if camping[\"child\"] is None:\n",
    "        print(\n",
    "            \"Supplementary child (age 0-?)      : N/A\"\n",
    "        )\n",
    "    else:\n",
    "        print(\n",
    "            \"Supplementary child (age 0-{})      : {:.02f}\".format(\n",
    "                camping[\"child\"][\"age_max\"], camping[\"child\"][\"price\"]\n",
    "            )\n",
    "        )\n",
    "\n",
    "        \n",
    "def determine_covered_by_flat(camping):\n",
    "    people_paid = set()\n",
    "    for _ in range(N_PLACES):\n",
    "        n_base_paid = 0\n",
    "        for _ in range(camping[\"flat\"][\"persons_covered\"]):\n",
    "            adult = get_adult(PEOPLE, age_min=camping[\"adult\"][\"age_min\"], exclude=people_paid)\n",
    "            if adult is not None:\n",
    "                assert adult not in people_paid\n",
    "                people_paid.add(adult)\n",
    "                n_base_paid += 1\n",
    "        for _ in range(camping[\"flat\"][\"persons_covered\"] - n_base_paid):\n",
    "            child = get_child(\n",
    "                PEOPLE, age_min=0, age_max=camping[\"child\"][\"age_max\"], exclude=people_paid\n",
    "            )\n",
    "            if child is not None:\n",
    "                assert child not in people_paid\n",
    "                people_paid.add(child)\n",
    "                n_base_paid += 1\n",
    "\n",
    "    return people_paid\n",
    "\n",
    "\n",
    "def calculate_totals(camping):\n",
    "    # Flat price, covering some people already\n",
    "    if camping[\"flat\"] is None:\n",
    "        flat_price = None\n",
    "        people_paid = set()\n",
    "    else:\n",
    "        flat_price = camping[\"flat\"][\"price\"] * N_PLACES * N_NIGHTS\n",
    "        people_paid = determine_covered_by_flat(camping)\n",
    "\n",
    "    # Price for supplementary adults and their number\n",
    "    if camping[\"adult\"] is None:\n",
    "        n_supp_adults = 0\n",
    "        supp_adults_price = None\n",
    "    else:\n",
    "        n_supp_adults = count_adults(\n",
    "            PEOPLE, age_min=camping[\"adult\"][\"age_min\"], exclude=people_paid\n",
    "        )\n",
    "        supp_adults_price = camping[\"adult\"][\"price\"] * n_supp_adults * N_NIGHTS\n",
    "\n",
    "    # Price for supplementary children and their number\n",
    "    if camping[\"child\"] is None:\n",
    "        n_supp_children = 0\n",
    "        supp_children_price = None\n",
    "    else:\n",
    "        n_supp_children = count_children(\n",
    "            PEOPLE, age_min=0, age_max=camping[\"child\"][\"age_max\"], exclude=people_paid\n",
    "        )\n",
    "        supp_children_price = camping[\"child\"][\"price\"] * n_supp_children * N_NIGHTS\n",
    "\n",
    "    return flat_price, (supp_adults_price, n_supp_adults), (supp_children_price, n_supp_children)\n",
    "\n",
    "\n",
    "def show_totals(flat_price, supp_adults, supp_children):\n",
    "    if flat_price is None:\n",
    "        print(\"Flat                               : N/A\")\n",
    "    else:\n",
    "        print(\"Flat                               : {:.02f}\".format(flat_price))\n",
    "    \n",
    "    supp_adults_price, n_supp_adults = supp_adults\n",
    "    if supp_adults_price is None:\n",
    "        print(\"Supplementary adults               : N/A\")\n",
    "    else:\n",
    "        print(\"Supplementary adults ({})           : {:.02f}\".format(n_supp_adults, supp_adults_price))\n",
    "        \n",
    "    supp_children_price, n_supp_children = supp_children\n",
    "    if supp_children_price is None:\n",
    "        print(\"Supplementary children             : N/A\")\n",
    "    else:\n",
    "        print(\"Supplementary children ({})         : {:.02f}\".format(n_supp_children, supp_children_price))\n",
    "    "
   ]
  },
  {
   "cell_type": "markdown",
   "metadata": {},
   "source": [
    "### Print Summary\n",
    "\n",
    "Unfortunately, many camping sites have no price information :-("
   ]
  },
  {
   "cell_type": "code",
   "execution_count": 9,
   "metadata": {},
   "outputs": [],
   "source": [
    "def summarize(camping):\n",
    "    # Print summary\n",
    "    print()\n",
    "    print(\"=== {} ===\".format(camping[\"name\"]))\n",
    "    print()\n",
    "    \n",
    "    show_campingfrance_link(camping)\n",
    "    show_location_link(camping)\n",
    "    print()\n",
    "    print()\n",
    "\n",
    "    print(\"--- Prices per Night ---\")\n",
    "    show_prices_per_night(camping)\n",
    "    print()\n",
    "\n",
    "    print(\"--- Calculated Total Prices ---\")\n",
    "    flat_price, supp_adults, supp_children = calculate_totals(camping)\n",
    "    show_totals(flat_price, supp_adults, supp_children)\n",
    "    print()\n",
    "\n",
    "    supp_adults_price = supp_adults[0]\n",
    "    supp_children_price = supp_children[0]\n",
    "    total_prices = [flat_price, supp_adults_price, supp_children_price]\n",
    "    if all(p is None for p in total_prices):\n",
    "        total = None\n",
    "    else:\n",
    "        total = sum(p for p in total_prices if p is not None)\n",
    "    if total is None:\n",
    "        print(\"Total                              : N/A\")\n",
    "    else:\n",
    "        print(\"Total                              : {:.02f}\".format(total))\n",
    "    print()\n",
    "    "
   ]
  },
  {
   "cell_type": "code",
   "execution_count": 10,
   "metadata": {},
   "outputs": [
    {
     "name": "stdout",
     "output_type": "stream",
     "text": [
      "\n",
      "=== Les Allouviers ===\n",
      "\n"
     ]
    },
    {
     "data": {
      "text/html": [
       "Link to CampingFrance: <a href=\"https://www.campingfrance.com/fr/find-your-campsite/provence-alpes-cote-dazur/hautes-alpes/freissinieres/les-allouviers\">click here</a>"
      ],
      "text/plain": [
       "<IPython.core.display.HTML object>"
      ]
     },
     "metadata": {},
     "output_type": "display_data"
    },
    {
     "data": {
      "text/html": [
       "Location: <a href=\"https://graphhopper.com/maps/?point=Mont-Dauphin%2C%2005600%2C%20France&point=44.7425%2C6.5614&locale=en-US&vehicle=car&weighting=fastest&elevation=true&use_miles=false&layer=Omniscale\">44.7425,6.5614</a>"
      ],
      "text/plain": [
       "<IPython.core.display.HTML object>"
      ]
     },
     "metadata": {},
     "output_type": "display_data"
    },
    {
     "name": "stdout",
     "output_type": "stream",
     "text": [
      "\n",
      "\n",
      "--- Prices per Night ---\n",
      "Flat                               : N/A\n",
      "Covers 2 person(s) and 1 car(s)\n",
      "Supplementary adult (age ?-)       : N/A\n",
      "Supplementary child (age 0-?)      : N/A\n",
      "\n",
      "--- Calculated Total Prices ---\n",
      "Flat                               : N/A\n",
      "Supplementary adults               : N/A\n",
      "Supplementary children             : N/A\n",
      "\n",
      "Total                              : N/A\n",
      "\n",
      "\n",
      "=== Catinat Fleuri ===\n",
      "\n"
     ]
    },
    {
     "data": {
      "text/html": [
       "Link to CampingFrance: <a href=\"https://www.campingfrance.com/fr/find-your-campsite/provence-alpes-cote-dazur/hautes-alpes/guillestre/la-longeagne\">click here</a>"
      ],
      "text/plain": [
       "<IPython.core.display.HTML object>"
      ]
     },
     "metadata": {},
     "output_type": "display_data"
    },
    {
     "data": {
      "text/html": [
       "Location: <a href=\"https://graphhopper.com/maps/?point=Mont-Dauphin%2C%2005600%2C%20France&point=44.6617%2C6.6492&locale=en-US&vehicle=car&weighting=fastest&elevation=true&use_miles=false&layer=Omniscale\">44.6617,6.6492</a>"
      ],
      "text/plain": [
       "<IPython.core.display.HTML object>"
      ]
     },
     "metadata": {},
     "output_type": "display_data"
    },
    {
     "name": "stdout",
     "output_type": "stream",
     "text": [
      "\n",
      "\n",
      "--- Prices per Night ---\n",
      "Flat                               : N/A\n",
      "Covers 2 person(s) and 1 car(s)\n",
      "Supplementary adult (age ?-)       : N/A\n",
      "Supplementary child (age 0-?)      : N/A\n",
      "\n",
      "--- Calculated Total Prices ---\n",
      "Flat                               : N/A\n",
      "Supplementary adults               : N/A\n",
      "Supplementary children             : N/A\n",
      "\n",
      "Total                              : N/A\n",
      "\n",
      "\n",
      "=== La Place ===\n",
      "\n"
     ]
    },
    {
     "data": {
      "text/html": [
       "Link to CampingFrance: <a href=\"https://www.campingfrance.com/fr/find-your-campsite/provence-alpes-cote-dazur/hautes-alpes/saint-andre-dembrun/la-place\">click here</a>"
      ],
      "text/plain": [
       "<IPython.core.display.HTML object>"
      ]
     },
     "metadata": {},
     "output_type": "display_data"
    },
    {
     "data": {
      "text/html": [
       "Location: <a href=\"https://graphhopper.com/maps/?point=Mont-Dauphin%2C%2005600%2C%20France&point=44.600015278419%2C6.5425008148193&locale=en-US&vehicle=car&weighting=fastest&elevation=true&use_miles=false&layer=Omniscale\">44.600015278419,6.5425008148193</a>"
      ],
      "text/plain": [
       "<IPython.core.display.HTML object>"
      ]
     },
     "metadata": {},
     "output_type": "display_data"
    },
    {
     "name": "stdout",
     "output_type": "stream",
     "text": [
      "\n",
      "\n",
      "--- Prices per Night ---\n",
      "Flat                               : 7.80\n",
      "Covers 2 person(s) and 1 car(s)\n",
      "Supplementary adult (age 8-)       : 2.10\n",
      "Supplementary child (age 0-7)      : 1.20\n",
      "\n",
      "--- Calculated Total Prices ---\n",
      "Flat                               : 109.20\n",
      "Supplementary adults (1)           : 14.70\n",
      "Supplementary children (2)         : 16.80\n",
      "\n",
      "Total                              : 140.70\n",
      "\n",
      "\n",
      "=== Les Melezes ===\n",
      "\n"
     ]
    },
    {
     "data": {
      "text/html": [
       "Link to CampingFrance: <a href=\"https://www.campingfrance.com/fr/find-your-campsite/provence-alpes-cote-dazur/hautes-alpes/ceillac/les-melezes\">click here</a>"
      ],
      "text/plain": [
       "<IPython.core.display.HTML object>"
      ]
     },
     "metadata": {},
     "output_type": "display_data"
    },
    {
     "data": {
      "text/html": [
       "Location: <a href=\"https://graphhopper.com/maps/?point=Mont-Dauphin%2C%2005600%2C%20France&point=44.654382199763%2C6.788406111145&locale=en-US&vehicle=car&weighting=fastest&elevation=true&use_miles=false&layer=Omniscale\">44.654382199763,6.788406111145</a>"
      ],
      "text/plain": [
       "<IPython.core.display.HTML object>"
      ]
     },
     "metadata": {},
     "output_type": "display_data"
    },
    {
     "name": "stdout",
     "output_type": "stream",
     "text": [
      "\n",
      "\n",
      "--- Prices per Night ---\n",
      "Flat                               : 7.20\n",
      "Covers 2 person(s) and 1 car(s)\n",
      "Supplementary adult (age 11-)       : 6.90\n",
      "Supplementary child (age 0-10)      : 4.40\n",
      "\n",
      "--- Calculated Total Prices ---\n",
      "Flat                               : 100.80\n",
      "Supplementary adults (1)           : 48.30\n",
      "Supplementary children (2)         : 61.60\n",
      "\n",
      "Total                              : 210.70\n",
      "\n",
      "\n",
      "=== Les Milles Vents ===\n",
      "\n"
     ]
    },
    {
     "data": {
      "text/html": [
       "Link to CampingFrance: <a href=\"https://www.campingfrance.com/fr/find-your-campsite/provence-alpes-cote-dazur/hautes-alpes/saint-clement-sur-durance/les-milles-vents\">click here</a>"
      ],
      "text/plain": [
       "<IPython.core.display.HTML object>"
      ]
     },
     "metadata": {},
     "output_type": "display_data"
    },
    {
     "data": {
      "text/html": [
       "Location: <a href=\"https://graphhopper.com/maps/?point=Mont-Dauphin%2C%2005600%2C%20France&point=44.645932070523%2C6.5845230873108&locale=en-US&vehicle=car&weighting=fastest&elevation=true&use_miles=false&layer=Omniscale\">44.645932070523,6.5845230873108</a>"
      ],
      "text/plain": [
       "<IPython.core.display.HTML object>"
      ]
     },
     "metadata": {},
     "output_type": "display_data"
    },
    {
     "name": "stdout",
     "output_type": "stream",
     "text": [
      "\n",
      "\n",
      "--- Prices per Night ---\n",
      "Flat                               : N/A\n",
      "Covers 2 person(s) and 1 car(s)\n",
      "Supplementary adult (age ?-)       : N/A\n",
      "Supplementary child (age 0-?)      : N/A\n",
      "\n",
      "--- Calculated Total Prices ---\n",
      "Flat                               : N/A\n",
      "Supplementary adults               : N/A\n",
      "Supplementary children             : N/A\n",
      "\n",
      "Total                              : N/A\n",
      "\n",
      "\n",
      "=== La Cabane ===\n",
      "\n"
     ]
    },
    {
     "data": {
      "text/html": [
       "Link to CampingFrance: <a href=\"https://www.campingfrance.com/fr/find-your-campsite/provence-alpes-cote-dazur/hautes-alpes/saint-crepin/la-cabane2\">click here</a>"
      ],
      "text/plain": [
       "<IPython.core.display.HTML object>"
      ]
     },
     "metadata": {},
     "output_type": "display_data"
    },
    {
     "data": {
      "text/html": [
       "Location: <a href=\"https://graphhopper.com/maps/?point=Mont-Dauphin%2C%2005600%2C%20France&point=44.7125%2C6.5956&locale=en-US&vehicle=car&weighting=fastest&elevation=true&use_miles=false&layer=Omniscale\">44.7125,6.5956</a>"
      ],
      "text/plain": [
       "<IPython.core.display.HTML object>"
      ]
     },
     "metadata": {},
     "output_type": "display_data"
    },
    {
     "name": "stdout",
     "output_type": "stream",
     "text": [
      "\n",
      "\n",
      "--- Prices per Night ---\n",
      "Flat                               : N/A\n",
      "Covers 2 person(s) and 1 car(s)\n",
      "Supplementary adult (age ?-)       : N/A\n",
      "Supplementary child (age 0-?)      : N/A\n",
      "\n",
      "--- Calculated Total Prices ---\n",
      "Flat                               : N/A\n",
      "Supplementary adults               : N/A\n",
      "Supplementary children             : N/A\n",
      "\n",
      "Total                              : N/A\n",
      "\n",
      "\n",
      "=== Camping Du Lac Les Iscles ===\n",
      "\n"
     ]
    },
    {
     "data": {
      "text/html": [
       "Link to CampingFrance: <a href=\"https://www.campingfrance.com/fr/find-your-campsite/provence-alpes-cote-dazur/hautes-alpes/eygliers/camping-du-lac-les-iscles\">click here</a>"
      ],
      "text/plain": [
       "<IPython.core.display.HTML object>"
      ]
     },
     "metadata": {},
     "output_type": "display_data"
    },
    {
     "data": {
      "text/html": [
       "Location: <a href=\"https://graphhopper.com/maps/?point=Mont-Dauphin%2C%2005600%2C%20France&point=44.6781%2C6.6092&locale=en-US&vehicle=car&weighting=fastest&elevation=true&use_miles=false&layer=Omniscale\">44.6781,6.6092</a>"
      ],
      "text/plain": [
       "<IPython.core.display.HTML object>"
      ]
     },
     "metadata": {},
     "output_type": "display_data"
    },
    {
     "name": "stdout",
     "output_type": "stream",
     "text": [
      "\n",
      "\n",
      "--- Prices per Night ---\n",
      "Flat                               : 18.20\n",
      "Covers 2 person(s) and 1 car(s)\n",
      "Supplementary adult (age 13-)       : 5.20\n",
      "Supplementary child (age 0-12)      : 4.20\n",
      "\n",
      "--- Calculated Total Prices ---\n",
      "Flat                               : 254.80\n",
      "Supplementary adults (0)           : 0.00\n",
      "Supplementary children (3)         : 88.20\n",
      "\n",
      "Total                              : 343.00\n",
      "\n",
      "\n",
      "=== La Ribiere ===\n",
      "\n"
     ]
    },
    {
     "data": {
      "text/html": [
       "Link to CampingFrance: <a href=\"https://www.campingfrance.com/fr/find-your-campsite/provence-alpes-cote-dazur/hautes-alpes/guillestre/la-ribiere2\">click here</a>"
      ],
      "text/plain": [
       "<IPython.core.display.HTML object>"
      ]
     },
     "metadata": {},
     "output_type": "display_data"
    },
    {
     "data": {
      "text/html": [
       "Location: <a href=\"https://graphhopper.com/maps/?point=Mont-Dauphin%2C%2005600%2C%20France&point=44.6556%2C6.6472&locale=en-US&vehicle=car&weighting=fastest&elevation=true&use_miles=false&layer=Omniscale\">44.6556,6.6472</a>"
      ],
      "text/plain": [
       "<IPython.core.display.HTML object>"
      ]
     },
     "metadata": {},
     "output_type": "display_data"
    },
    {
     "name": "stdout",
     "output_type": "stream",
     "text": [
      "\n",
      "\n",
      "--- Prices per Night ---\n",
      "Flat                               : N/A\n",
      "Covers 2 person(s) and 1 car(s)\n",
      "Supplementary adult (age ?-)       : N/A\n",
      "Supplementary child (age 0-?)      : N/A\n",
      "\n",
      "--- Calculated Total Prices ---\n",
      "Flat                               : N/A\n",
      "Supplementary adults               : N/A\n",
      "Supplementary children             : N/A\n",
      "\n",
      "Total                              : N/A\n",
      "\n",
      "\n",
      "=== Camping Municipal La Fontaine ===\n",
      "\n"
     ]
    },
    {
     "data": {
      "text/html": [
       "Link to CampingFrance: <a href=\"https://www.campingfrance.com/fr/find-your-campsite/provence-alpes-cote-dazur/hautes-alpes/reotier/camp-municipal-la-fontaine2\">click here</a>"
      ],
      "text/plain": [
       "<IPython.core.display.HTML object>"
      ]
     },
     "metadata": {},
     "output_type": "display_data"
    },
    {
     "data": {
      "text/html": [
       "Location: <a href=\"https://graphhopper.com/maps/?point=Mont-Dauphin%2C%2005600%2C%20France&point=44.6792%2C6.6042&locale=en-US&vehicle=car&weighting=fastest&elevation=true&use_miles=false&layer=Omniscale\">44.6792,6.6042</a>"
      ],
      "text/plain": [
       "<IPython.core.display.HTML object>"
      ]
     },
     "metadata": {},
     "output_type": "display_data"
    },
    {
     "name": "stdout",
     "output_type": "stream",
     "text": [
      "\n",
      "\n",
      "--- Prices per Night ---\n",
      "Flat                               : N/A\n",
      "Covers 2 person(s) and 1 car(s)\n",
      "Supplementary adult (age ?-)       : N/A\n",
      "Supplementary child (age 0-?)      : N/A\n",
      "\n",
      "--- Calculated Total Prices ---\n",
      "Flat                               : N/A\n",
      "Supplementary adults               : N/A\n",
      "Supplementary children             : N/A\n",
      "\n",
      "Total                              : N/A\n",
      "\n",
      "\n",
      "=== Camping Municipal L'Ile ===\n",
      "\n"
     ]
    },
    {
     "data": {
      "text/html": [
       "Link to CampingFrance: <a href=\"https://www.campingfrance.com/fr/find-your-campsite/provence-alpes-cote-dazur/hautes-alpes/saint-crepin/camp-municipal-lile\">click here</a>"
      ],
      "text/plain": [
       "<IPython.core.display.HTML object>"
      ]
     },
     "metadata": {},
     "output_type": "display_data"
    },
    {
     "data": {
      "text/html": [
       "Location: <a href=\"https://graphhopper.com/maps/?point=Mont-Dauphin%2C%2005600%2C%20France&point=44.7058%2C6.6022&locale=en-US&vehicle=car&weighting=fastest&elevation=true&use_miles=false&layer=Omniscale\">44.7058,6.6022</a>"
      ],
      "text/plain": [
       "<IPython.core.display.HTML object>"
      ]
     },
     "metadata": {},
     "output_type": "display_data"
    },
    {
     "name": "stdout",
     "output_type": "stream",
     "text": [
      "\n",
      "\n",
      "--- Prices per Night ---\n",
      "Flat                               : 18.00\n",
      "Covers 2 person(s) and 1 car(s)\n",
      "Supplementary adult (age 4-)       : 5.00\n",
      "Supplementary child (age 0-3)      : 3.10\n",
      "\n",
      "--- Calculated Total Prices ---\n",
      "Flat                               : 252.00\n",
      "Supplementary adults (3)           : 105.00\n",
      "Supplementary children (0)         : 0.00\n",
      "\n",
      "Total                              : 357.00\n",
      "\n",
      "\n",
      "=== Les Cariamas ===\n",
      "\n"
     ]
    },
    {
     "data": {
      "text/html": [
       "Link to CampingFrance: <a href=\"https://www.campingfrance.com/fr/find-your-campsite/provence-alpes-cote-dazur/hautes-alpes/chateauroux-les-alpes/les-cariamas\">click here</a>"
      ],
      "text/plain": [
       "<IPython.core.display.HTML object>"
      ]
     },
     "metadata": {},
     "output_type": "display_data"
    },
    {
     "data": {
      "text/html": [
       "Location: <a href=\"https://graphhopper.com/maps/?point=Mont-Dauphin%2C%2005600%2C%20France&point=44.603609711669%2C6.5226874603271&locale=en-US&vehicle=car&weighting=fastest&elevation=true&use_miles=false&layer=Omniscale\">44.603609711669,6.5226874603271</a>"
      ],
      "text/plain": [
       "<IPython.core.display.HTML object>"
      ]
     },
     "metadata": {},
     "output_type": "display_data"
    },
    {
     "name": "stdout",
     "output_type": "stream",
     "text": [
      "\n",
      "\n",
      "--- Prices per Night ---\n",
      "Flat                               : 13.00\n",
      "Covers 2 person(s) and 1 car(s)\n",
      "Supplementary adult (age 7-)       : 6.90\n",
      "Supplementary child (age 0-6)      : 4.00\n",
      "\n",
      "--- Calculated Total Prices ---\n",
      "Flat                               : 182.00\n",
      "Supplementary adults (2)           : 96.60\n",
      "Supplementary children (1)         : 28.00\n",
      "\n",
      "Total                              : 306.60\n",
      "\n",
      "\n",
      "=== Les Eygas ===\n",
      "\n"
     ]
    },
    {
     "data": {
      "text/html": [
       "Link to CampingFrance: <a href=\"https://www.campingfrance.com/fr/find-your-campsite/provence-alpes-cote-dazur/hautes-alpes/chateauroux-les-alpes/les-eygas\">click here</a>"
      ],
      "text/plain": [
       "<IPython.core.display.HTML object>"
      ]
     },
     "metadata": {},
     "output_type": "display_data"
    },
    {
     "data": {
      "text/html": [
       "Location: <a href=\"https://graphhopper.com/maps/?point=Mont-Dauphin%2C%2005600%2C%20France&point=44.6021%2C6.5276&locale=en-US&vehicle=car&weighting=fastest&elevation=true&use_miles=false&layer=Omniscale\">44.6021,6.5276</a>"
      ],
      "text/plain": [
       "<IPython.core.display.HTML object>"
      ]
     },
     "metadata": {},
     "output_type": "display_data"
    },
    {
     "name": "stdout",
     "output_type": "stream",
     "text": [
      "\n",
      "\n",
      "--- Prices per Night ---\n",
      "Flat                               : 29.00\n",
      "Covers 2 person(s) and 1 car(s)\n",
      "Supplementary adult (age 4-)       : 7.50\n",
      "Supplementary child (age 0-3)      : 5.00\n",
      "\n",
      "--- Calculated Total Prices ---\n",
      "Flat                               : 406.00\n",
      "Supplementary adults (3)           : 157.50\n",
      "Supplementary children (0)         : 0.00\n",
      "\n",
      "Total                              : 563.50\n",
      "\n",
      "\n",
      "=== Saint James Les Pins ===\n",
      "\n"
     ]
    },
    {
     "data": {
      "text/html": [
       "Link to CampingFrance: <a href=\"https://www.campingfrance.com/fr/find-your-campsite/provence-alpes-cote-dazur/hautes-alpes/guillestre/saint-james-les-pins\">click here</a>"
      ],
      "text/plain": [
       "<IPython.core.display.HTML object>"
      ]
     },
     "metadata": {},
     "output_type": "display_data"
    },
    {
     "data": {
      "text/html": [
       "Location: <a href=\"https://graphhopper.com/maps/?point=Mont-Dauphin%2C%2005600%2C%20France&point=44.6572%2C6.6328&locale=en-US&vehicle=car&weighting=fastest&elevation=true&use_miles=false&layer=Omniscale\">44.6572,6.6328</a>"
      ],
      "text/plain": [
       "<IPython.core.display.HTML object>"
      ]
     },
     "metadata": {},
     "output_type": "display_data"
    },
    {
     "name": "stdout",
     "output_type": "stream",
     "text": [
      "\n",
      "\n",
      "--- Prices per Night ---\n",
      "Flat                               : N/A\n",
      "Covers 2 person(s) and 1 car(s)\n",
      "Supplementary adult (age ?-)       : N/A\n",
      "Supplementary child (age 0-?)      : N/A\n",
      "\n",
      "--- Calculated Total Prices ---\n",
      "Flat                               : N/A\n",
      "Supplementary adults               : N/A\n",
      "Supplementary children             : N/A\n",
      "\n",
      "Total                              : N/A\n",
      "\n",
      "\n",
      "=== Le Serre Altitude 1000 ===\n",
      "\n"
     ]
    },
    {
     "data": {
      "text/html": [
       "Link to CampingFrance: <a href=\"https://www.campingfrance.com/fr/find-your-campsite/provence-alpes-cote-dazur/hautes-alpes/guillestre/le-serre-altitude-1000\">click here</a>"
      ],
      "text/plain": [
       "<IPython.core.display.HTML object>"
      ]
     },
     "metadata": {},
     "output_type": "display_data"
    },
    {
     "data": {
      "text/html": [
       "Location: <a href=\"https://graphhopper.com/maps/?point=Mont-Dauphin%2C%2005600%2C%20France&point=44.6595%2C6.6495&locale=en-US&vehicle=car&weighting=fastest&elevation=true&use_miles=false&layer=Omniscale\">44.6595,6.6495</a>"
      ],
      "text/plain": [
       "<IPython.core.display.HTML object>"
      ]
     },
     "metadata": {},
     "output_type": "display_data"
    },
    {
     "name": "stdout",
     "output_type": "stream",
     "text": [
      "\n",
      "\n",
      "--- Prices per Night ---\n",
      "Flat                               : N/A\n",
      "Covers 2 person(s) and 1 car(s)\n",
      "Supplementary adult (age ?-)       : N/A\n",
      "Supplementary child (age 0-?)      : N/A\n",
      "\n",
      "--- Calculated Total Prices ---\n",
      "Flat                               : N/A\n",
      "Supplementary adults               : N/A\n",
      "Supplementary children             : N/A\n",
      "\n",
      "Total                              : N/A\n",
      "\n",
      "\n",
      "=== Les Pins ===\n",
      "\n"
     ]
    },
    {
     "data": {
      "text/html": [
       "Link to CampingFrance: <a href=\"https://www.campingfrance.com/fr/find-your-campsite/provence-alpes-cote-dazur/hautes-alpes/chateauroux-les-alpes/les-pins17\">click here</a>"
      ],
      "text/plain": [
       "<IPython.core.display.HTML object>"
      ]
     },
     "metadata": {},
     "output_type": "display_data"
    },
    {
     "data": {
      "text/html": [
       "Location: <a href=\"https://graphhopper.com/maps/?point=Mont-Dauphin%2C%2005600%2C%20France&point=44.6158%2C6.5172&locale=en-US&vehicle=car&weighting=fastest&elevation=true&use_miles=false&layer=Omniscale\">44.6158,6.5172</a>"
      ],
      "text/plain": [
       "<IPython.core.display.HTML object>"
      ]
     },
     "metadata": {},
     "output_type": "display_data"
    },
    {
     "name": "stdout",
     "output_type": "stream",
     "text": [
      "\n",
      "\n",
      "--- Prices per Night ---\n",
      "Flat                               : N/A\n",
      "Covers 2 person(s) and 1 car(s)\n",
      "Supplementary adult (age ?-)       : N/A\n",
      "Supplementary child (age 0-?)      : N/A\n",
      "\n",
      "--- Calculated Total Prices ---\n",
      "Flat                               : N/A\n",
      "Supplementary adults               : N/A\n",
      "Supplementary children             : N/A\n",
      "\n",
      "Total                              : N/A\n",
      "\n",
      "\n",
      "=== Camping Municipal Le Lac ===\n",
      "\n"
     ]
    },
    {
     "data": {
      "text/html": [
       "Link to CampingFrance: <a href=\"https://www.campingfrance.com/fr/find-your-campsite/provence-alpes-cote-dazur/hautes-alpes/la-roche-de-rame/camp-municipal-le-lac8\">click here</a>"
      ],
      "text/plain": [
       "<IPython.core.display.HTML object>"
      ]
     },
     "metadata": {},
     "output_type": "display_data"
    },
    {
     "data": {
      "text/html": [
       "Location: <a href=\"https://graphhopper.com/maps/?point=Mont-Dauphin%2C%2005600%2C%20France&point=44.7467%2C6.5806&locale=en-US&vehicle=car&weighting=fastest&elevation=true&use_miles=false&layer=Omniscale\">44.7467,6.5806</a>"
      ],
      "text/plain": [
       "<IPython.core.display.HTML object>"
      ]
     },
     "metadata": {},
     "output_type": "display_data"
    },
    {
     "name": "stdout",
     "output_type": "stream",
     "text": [
      "\n",
      "\n",
      "--- Prices per Night ---\n",
      "Flat                               : N/A\n",
      "Covers 2 person(s) and 1 car(s)\n",
      "Supplementary adult (age ?-)       : N/A\n",
      "Supplementary child (age 0-?)      : N/A\n",
      "\n",
      "--- Calculated Total Prices ---\n",
      "Flat                               : N/A\n",
      "Supplementary adults               : N/A\n",
      "Supplementary children             : N/A\n",
      "\n",
      "Total                              : N/A\n",
      "\n",
      "\n",
      "=== La Rochette ===\n",
      "\n"
     ]
    },
    {
     "data": {
      "text/html": [
       "Link to CampingFrance: <a href=\"https://www.campingfrance.com/fr/find-your-campsite/provence-alpes-cote-dazur/hautes-alpes/guillestre/la-rochette\">click here</a>"
      ],
      "text/plain": [
       "<IPython.core.display.HTML object>"
      ]
     },
     "metadata": {},
     "output_type": "display_data"
    },
    {
     "data": {
      "text/html": [
       "Location: <a href=\"https://graphhopper.com/maps/?point=Mont-Dauphin%2C%2005600%2C%20France&point=44.6586%2C6.6383&locale=en-US&vehicle=car&weighting=fastest&elevation=true&use_miles=false&layer=Omniscale\">44.6586,6.6383</a>"
      ],
      "text/plain": [
       "<IPython.core.display.HTML object>"
      ]
     },
     "metadata": {},
     "output_type": "display_data"
    },
    {
     "name": "stdout",
     "output_type": "stream",
     "text": [
      "\n",
      "\n",
      "--- Prices per Night ---\n",
      "Flat                               : 15.90\n",
      "Covers 2 person(s) and 1 car(s)\n",
      "Supplementary adult (age 3-)       : 4.00\n",
      "Supplementary child (age 0-2)      : 2.80\n",
      "\n",
      "--- Calculated Total Prices ---\n",
      "Flat                               : 222.60\n",
      "Supplementary adults (3)           : 84.00\n",
      "Supplementary children (0)         : 0.00\n",
      "\n",
      "Total                              : 306.60\n",
      "\n",
      "\n",
      "=== La Tour ===\n",
      "\n"
     ]
    },
    {
     "data": {
      "text/html": [
       "Link to CampingFrance: <a href=\"https://www.campingfrance.com/fr/find-your-campsite/provence-alpes-cote-dazur/hautes-alpes/embrun/la-tour6\">click here</a>"
      ],
      "text/plain": [
       "<IPython.core.display.HTML object>"
      ]
     },
     "metadata": {},
     "output_type": "display_data"
    },
    {
     "data": {
      "text/html": [
       "Location: <a href=\"https://graphhopper.com/maps/?point=Mont-Dauphin%2C%2005600%2C%20France&point=44.5556%2C6.5061&locale=en-US&vehicle=car&weighting=fastest&elevation=true&use_miles=false&layer=Omniscale\">44.5556,6.5061</a>"
      ],
      "text/plain": [
       "<IPython.core.display.HTML object>"
      ]
     },
     "metadata": {},
     "output_type": "display_data"
    },
    {
     "name": "stdout",
     "output_type": "stream",
     "text": [
      "\n",
      "\n",
      "--- Prices per Night ---\n",
      "Flat                               : N/A\n",
      "Covers 2 person(s) and 1 car(s)\n",
      "Supplementary adult (age ?-)       : N/A\n",
      "Supplementary child (age 0-?)      : N/A\n",
      "\n",
      "--- Calculated Total Prices ---\n",
      "Flat                               : N/A\n",
      "Supplementary adults               : N/A\n",
      "Supplementary children             : N/A\n",
      "\n",
      "Total                              : N/A\n",
      "\n",
      "\n",
      "=== Camping Municipal Les Moutets ===\n",
      "\n"
     ]
    },
    {
     "data": {
      "text/html": [
       "Link to CampingFrance: <a href=\"https://www.campingfrance.com/fr/find-your-campsite/provence-alpes-cote-dazur/hautes-alpes/ceillac/camp-municipal-les-moutets\">click here</a>"
      ],
      "text/plain": [
       "<IPython.core.display.HTML object>"
      ]
     },
     "metadata": {},
     "output_type": "display_data"
    },
    {
     "data": {
      "text/html": [
       "Location: <a href=\"https://graphhopper.com/maps/?point=Mont-Dauphin%2C%2005600%2C%20France&point=44.6614%2C6.7806&locale=en-US&vehicle=car&weighting=fastest&elevation=true&use_miles=false&layer=Omniscale\">44.6614,6.7806</a>"
      ],
      "text/plain": [
       "<IPython.core.display.HTML object>"
      ]
     },
     "metadata": {},
     "output_type": "display_data"
    },
    {
     "name": "stdout",
     "output_type": "stream",
     "text": [
      "\n",
      "\n",
      "--- Prices per Night ---\n",
      "Flat                               : N/A\n",
      "Covers 2 person(s) and 1 car(s)\n",
      "Supplementary adult (age ?-)       : N/A\n",
      "Supplementary child (age 0-?)      : N/A\n",
      "\n",
      "--- Calculated Total Prices ---\n",
      "Flat                               : N/A\n",
      "Supplementary adults               : N/A\n",
      "Supplementary children             : N/A\n",
      "\n",
      "Total                              : N/A\n",
      "\n",
      "\n",
      "=== Camping New Rabioux ===\n",
      "\n"
     ]
    },
    {
     "data": {
      "text/html": [
       "Link to CampingFrance: <a href=\"https://www.campingfrance.com/fr/find-your-campsite/provence-alpes-cote-dazur/hautes-alpes/chateauroux-les-alpes/camping-new-rabioux\">click here</a>"
      ],
      "text/plain": [
       "<IPython.core.display.HTML object>"
      ]
     },
     "metadata": {},
     "output_type": "display_data"
    },
    {
     "data": {
      "text/html": [
       "Location: <a href=\"https://graphhopper.com/maps/?point=Mont-Dauphin%2C%2005600%2C%20France&point=44.6208%2C6.5464&locale=en-US&vehicle=car&weighting=fastest&elevation=true&use_miles=false&layer=Omniscale\">44.6208,6.5464</a>"
      ],
      "text/plain": [
       "<IPython.core.display.HTML object>"
      ]
     },
     "metadata": {},
     "output_type": "display_data"
    },
    {
     "name": "stdout",
     "output_type": "stream",
     "text": [
      "\n",
      "\n",
      "--- Prices per Night ---\n",
      "Flat                               : 5.50\n",
      "Covers 2 person(s) and 1 car(s)\n",
      "Supplementary adult (age 2-)       : 5.50\n",
      "Supplementary child (age 0-1)      : 2.50\n",
      "\n",
      "--- Calculated Total Prices ---\n",
      "Flat                               : 77.00\n",
      "Supplementary adults (3)           : 115.50\n",
      "Supplementary children (0)         : 0.00\n",
      "\n",
      "Total                              : 192.50\n",
      "\n",
      "\n",
      "=== Le Verger ===\n",
      "\n"
     ]
    },
    {
     "data": {
      "text/html": [
       "Link to CampingFrance: <a href=\"https://www.campingfrance.com/fr/find-your-campsite/provence-alpes-cote-dazur/hautes-alpes/la-roche-de-rame/le-verger6\">click here</a>"
      ],
      "text/plain": [
       "<IPython.core.display.HTML object>"
      ]
     },
     "metadata": {},
     "output_type": "display_data"
    },
    {
     "data": {
      "text/html": [
       "Location: <a href=\"https://graphhopper.com/maps/?point=Mont-Dauphin%2C%2005600%2C%20France&point=44.757947%2C6.579516&locale=en-US&vehicle=car&weighting=fastest&elevation=true&use_miles=false&layer=Omniscale\">44.757947,6.579516</a>"
      ],
      "text/plain": [
       "<IPython.core.display.HTML object>"
      ]
     },
     "metadata": {},
     "output_type": "display_data"
    },
    {
     "name": "stdout",
     "output_type": "stream",
     "text": [
      "\n",
      "\n",
      "--- Prices per Night ---\n",
      "Flat                               : N/A\n",
      "Covers 2 person(s) and 1 car(s)\n",
      "Supplementary adult (age ?-)       : N/A\n",
      "Supplementary child (age 0-?)      : N/A\n",
      "\n",
      "--- Calculated Total Prices ---\n",
      "Flat                               : N/A\n",
      "Supplementary adults               : N/A\n",
      "Supplementary children             : N/A\n",
      "\n",
      "Total                              : N/A\n",
      "\n",
      "\n",
      "=== La Madeleine ===\n",
      "\n"
     ]
    },
    {
     "data": {
      "text/html": [
       "Link to CampingFrance: <a href=\"https://www.campingfrance.com/fr/find-your-campsite/provence-alpes-cote-dazur/hautes-alpes/embrun/la-madeleine\">click here</a>"
      ],
      "text/plain": [
       "<IPython.core.display.HTML object>"
      ]
     },
     "metadata": {},
     "output_type": "display_data"
    },
    {
     "data": {
      "text/html": [
       "Location: <a href=\"https://graphhopper.com/maps/?point=Mont-Dauphin%2C%2005600%2C%20France&point=44.5572%2C6.5069&locale=en-US&vehicle=car&weighting=fastest&elevation=true&use_miles=false&layer=Omniscale\">44.5572,6.5069</a>"
      ],
      "text/plain": [
       "<IPython.core.display.HTML object>"
      ]
     },
     "metadata": {},
     "output_type": "display_data"
    },
    {
     "name": "stdout",
     "output_type": "stream",
     "text": [
      "\n",
      "\n",
      "--- Prices per Night ---\n",
      "Flat                               : N/A\n",
      "Covers 2 person(s) and 1 car(s)\n",
      "Supplementary adult (age ?-)       : N/A\n",
      "Supplementary child (age 0-?)      : N/A\n",
      "\n",
      "--- Calculated Total Prices ---\n",
      "Flat                               : N/A\n",
      "Supplementary adults               : N/A\n",
      "Supplementary children             : N/A\n",
      "\n",
      "Total                              : N/A\n",
      "\n",
      "\n",
      "=== Parc Le Villard ===\n",
      "\n"
     ]
    },
    {
     "data": {
      "text/html": [
       "Link to CampingFrance: <a href=\"https://www.campingfrance.com/fr/find-your-campsite/provence-alpes-cote-dazur/hautes-alpes/guillestre/parc-le-villard\">click here</a>"
      ],
      "text/plain": [
       "<IPython.core.display.HTML object>"
      ]
     },
     "metadata": {},
     "output_type": "display_data"
    },
    {
     "data": {
      "text/html": [
       "Location: <a href=\"https://graphhopper.com/maps/?point=Mont-Dauphin%2C%2005600%2C%20France&point=44.659141834107%2C6.626539361763&locale=en-US&vehicle=car&weighting=fastest&elevation=true&use_miles=false&layer=Omniscale\">44.659141834107,6.626539361763</a>"
      ],
      "text/plain": [
       "<IPython.core.display.HTML object>"
      ]
     },
     "metadata": {},
     "output_type": "display_data"
    },
    {
     "name": "stdout",
     "output_type": "stream",
     "text": [
      "\n",
      "\n",
      "--- Prices per Night ---\n",
      "Flat                               : 22.00\n",
      "Covers 2 person(s) and 1 car(s)\n",
      "Supplementary adult (age 8-)       : 6.00\n",
      "Supplementary child (age 0-7)      : 5.00\n",
      "\n",
      "--- Calculated Total Prices ---\n",
      "Flat                               : 308.00\n",
      "Supplementary adults (1)           : 42.00\n",
      "Supplementary children (2)         : 70.00\n",
      "\n",
      "Total                              : 420.00\n",
      "\n",
      "\n",
      "=== Ferme De Civadille ===\n",
      "\n"
     ]
    },
    {
     "data": {
      "text/html": [
       "Link to CampingFrance: <a href=\"https://www.campingfrance.com/fr/find-your-campsite/provence-alpes-cote-dazur/hautes-alpes/chateauroux-les-alpes/ferme-de-civadille\">click here</a>"
      ],
      "text/plain": [
       "<IPython.core.display.HTML object>"
      ]
     },
     "metadata": {},
     "output_type": "display_data"
    },
    {
     "data": {
      "text/html": [
       "Location: <a href=\"https://graphhopper.com/maps/?point=Mont-Dauphin%2C%2005600%2C%20France&point=44.6144%2C6.5283&locale=en-US&vehicle=car&weighting=fastest&elevation=true&use_miles=false&layer=Omniscale\">44.6144,6.5283</a>"
      ],
      "text/plain": [
       "<IPython.core.display.HTML object>"
      ]
     },
     "metadata": {},
     "output_type": "display_data"
    },
    {
     "name": "stdout",
     "output_type": "stream",
     "text": [
      "\n",
      "\n",
      "--- Prices per Night ---\n",
      "Flat                               : N/A\n",
      "Covers 2 person(s) and 1 car(s)\n",
      "Supplementary adult (age ?-)       : N/A\n",
      "Supplementary child (age 0-?)      : N/A\n",
      "\n",
      "--- Calculated Total Prices ---\n",
      "Flat                               : N/A\n",
      "Supplementary adults               : N/A\n",
      "Supplementary children             : N/A\n",
      "\n",
      "Total                              : N/A\n",
      "\n"
     ]
    }
   ],
   "source": [
    "for site, camping in campings.items():\n",
    "    summarize(camping)"
   ]
  },
  {
   "cell_type": "code",
   "execution_count": null,
   "metadata": {},
   "outputs": [],
   "source": []
  }
 ],
 "metadata": {
  "kernelspec": {
   "display_name": "Python 3",
   "language": "python",
   "name": "python3"
  },
  "language_info": {
   "codemirror_mode": {
    "name": "ipython",
    "version": 3
   },
   "file_extension": ".py",
   "mimetype": "text/x-python",
   "name": "python",
   "nbconvert_exporter": "python",
   "pygments_lexer": "ipython3",
   "version": "3.6.7"
  }
 },
 "nbformat": 4,
 "nbformat_minor": 2
}
